{
 "cells": [
  {
   "cell_type": "code",
   "execution_count": null,
   "metadata": {
    "id": "WcDSmCW4CBm0"
   },
   "outputs": [],
   "source": [
    "import numpy as np\n",
    "import tensorflow as tf\n",
    "from skimage.color import rgb2lab, lab2rgb\n",
    "import matplotlib.pyplot as plt\n",
    "from tensorflow.keras.applications import vgg19\n",
    "from tensorflow.keras.layers import Conv2D, BatchNormalization, UpSampling2D\n",
    "from google.colab.patches import cv2_imshow\n",
    "import zipfile\n",
    "from tf_rgb_lab_formulation import *"
   ]
  },
  {
   "cell_type": "code",
   "execution_count": null,
   "metadata": {},
   "outputs": [],
   "source": [
    "\"\"\"\n",
    "    Trained the model using 32K images of WIDER FACE Detection datset.\n",
    "    Trained model on on google colab using their free GPU.\n",
    "    It took approx. 5  hrs and trained for only 3 epochs\n",
    "\"\"\""
   ]
  },
  {
   "cell_type": "code",
   "execution_count": null,
   "metadata": {
    "colab": {
     "base_uri": "https://localhost:8080/"
    },
    "id": "Awh1k56HHjSN",
    "outputId": "222c459f-abb6-4963-8719-6ca239e480c6"
   },
   "outputs": [
    {
     "name": "stdout",
     "output_type": "stream",
     "text": [
      "Found 12880 files belonging to 1 classes.\n"
     ]
    }
   ],
   "source": [
    "with zipfile.ZipFile(\"/content/drive/MyDrive/DATASETS/HUMAN FACES /WIDER_train.zip\") as zfile:\n",
    "    zfile.extractall()\n",
    "\n",
    "datasets1 = tf.keras.preprocessing.image_dataset_from_directory(\"/content/WIDER_train/\", batch_size=8, image_size=(256,256))"
   ]
  },
  {
   "cell_type": "code",
   "execution_count": null,
   "metadata": {
    "colab": {
     "base_uri": "https://localhost:8080/"
    },
    "id": "E1HngcN2Hll0",
    "outputId": "d523266f-9f94-47cd-e758-2ba2c11e9537"
   },
   "outputs": [
    {
     "name": "stdout",
     "output_type": "stream",
     "text": [
      "Found 16097 files belonging to 1 classes.\n"
     ]
    }
   ],
   "source": [
    "with zipfile.ZipFile(\"/content/drive/MyDrive/DATASETS/HUMAN FACES /WIDER_test.zip\") as zfile:\n",
    "    zfile.extractall()\n",
    "\n",
    "datasets2 = tf.keras.preprocessing.image_dataset_from_directory(\"/content/WIDER_test/\", batch_size=8, image_size=(256,256))"
   ]
  },
  {
   "cell_type": "code",
   "execution_count": null,
   "metadata": {
    "colab": {
     "base_uri": "https://localhost:8080/"
    },
    "id": "o8n4CZx8HQyp",
    "outputId": "1b1857f8-5636-4238-cfff-dd77dd6e7357"
   },
   "outputs": [
    {
     "name": "stdout",
     "output_type": "stream",
     "text": [
      "Found 3226 files belonging to 1 classes.\n"
     ]
    }
   ],
   "source": [
    "with zipfile.ZipFile(\"/content/drive/MyDrive/DATASETS/HUMAN FACES /WIDER_val.zip\") as zfile:\n",
    "    zfile.extractall()\n",
    "    \n",
    "datasets3 = tf.keras.preprocessing.image_dataset_from_directory(\"/content/WIDER_val/\", batch_size=8, image_size=(256,256))"
   ]
  },
  {
   "cell_type": "code",
   "execution_count": null,
   "metadata": {
    "id": "BUDV63mBH0cW"
   },
   "outputs": [],
   "source": [
    "ds = datasets1.concatenate(datasets2)\n",
    "ds = ds.concatenate(datasets3).unbatch()\n",
    "norm_ds = ds.map(lambda x,y : x/255)"
   ]
  },
  {
   "cell_type": "code",
   "execution_count": null,
   "metadata": {},
   "outputs": [],
   "source": [
    "'''\n",
    "    step 1 : Converting normalized image from RGB to Lab\n",
    "    step 2 : splitting Lab image to L and ab \n",
    "             L - acts as Gray image \n",
    "             ab - acts as a ground truth to map with\n",
    "    step 3 : Model excepts the input to be 3D, so Concatenating 1D L layer gives 3D\n",
    "             (3D_L - model input && ab - model output)\n",
    "'''"
   ]
  },
  {
   "cell_type": "code",
   "execution_count": null,
   "metadata": {
    "id": "VmJSrr66H5AO"
   },
   "outputs": [],
   "source": [
    "# function : rgb_to_lab() - Excepts the inputs to be range of 0 to 1\n",
    "#                           Returns Lab colorspace image with values [l: 0 to 100 and ab: -128 to 128]\n",
    "processed_ds = norm_ds.map(lambda x : (tf.concat((rgb_to_lab(x)[:,:,:1]/100, rgb_to_lab(x)[:,:,:1]/100,rgb_to_lab(x)[:,:,:1]/100), axis=-1), \n",
    "                             rgb_to_lab(x)[:,:,1:]/128))\n",
    "processed_ds = processed_ds.batch(8)"
   ]
  },
  {
   "cell_type": "code",
   "execution_count": null,
   "metadata": {
    "id": "_RwowycLC2qC"
   },
   "outputs": [],
   "source": [
    "def Colourise_model_with_VGGbase(input_shape=[256,256,3]):\n",
    "    vgg = vgg19.VGG19(include_top=False, input_shape=input_shape)\n",
    "    vgg.trainable = False\n",
    "    \n",
    "    concat_layers_name = ['block1_conv2', 'block2_conv2', 'block3_conv4', 'block4_conv4', 'block5_conv4']\n",
    "    outputs = dict((name,vgg.get_layer(name).output) for name in concat_layers_name)\n",
    "    outputs['inputs'] = vgg.layers[0].output\n",
    "    up_samp = list(map(lambda x : UpSampling2D(size=(256//(x.shape[1]), 256//(x.shape[1])))(x), outputs.values()))\n",
    "    concat_up_scaled = tf.concat(up_samp, axis=-1)\n",
    "    \n",
    "    #norm_concate = BatchNormalization(axis=-1)(concat_up_scaled)\n",
    "\n",
    "    X = Conv2D(512, (1,1), padding='SAME')(concat_up_scaled)\n",
    "    X = tf.keras.layers.LeakyReLU()(X)\n",
    "    X = BatchNormalization(axis=-1)(X)\n",
    "    X = Conv2D(256, (1,1), activation='relu', padding='SAME')(X)\n",
    "    X = Conv2D(128, (1,1), padding='SAME')(X)\n",
    "    X = tf.keras.layers.LeakyReLU()(X)\n",
    "    #X = BatchNormalization(axis=-1)(X)\n",
    "    X = Conv2D(64, (1,1), padding='SAME', activation='relu')(X)\n",
    "    X = Conv2D(2, (1,1), padding='SAME', activation='tanh')(X)\n",
    "\n",
    "    return tf.keras.Model([vgg.input], X)"
   ]
  },
  {
   "cell_type": "code",
   "execution_count": null,
   "metadata": {
    "id": "CnlVGvsSEGJU"
   },
   "outputs": [],
   "source": [
    "MODEL = Colourise_model_with_VGGbase()"
   ]
  },
  {
   "cell_type": "code",
   "execution_count": null,
   "metadata": {
    "id": "dhp_06LfKRlf"
   },
   "outputs": [],
   "source": [
    "def dist_loss(true_ab, predict_ab):\n",
    "    return tf.math.squared_difference(true_ab, predict_ab, name='distance_loss')"
   ]
  },
  {
   "cell_type": "code",
   "execution_count": null,
   "metadata": {
    "colab": {
     "base_uri": "https://localhost:8080/"
    },
    "id": "4kQv-6cCIWpJ",
    "outputId": "5f4df9f6-deac-42bc-fd6b-119c8bc88189"
   },
   "outputs": [
    {
     "name": "stdout",
     "output_type": "stream",
     "text": [
      "Model: \"model\"\n",
      "__________________________________________________________________________________________________\n",
      "Layer (type)                    Output Shape         Param #     Connected to                     \n",
      "==================================================================================================\n",
      "input_1 (InputLayer)            [(None, 256, 256, 3) 0                                            \n",
      "__________________________________________________________________________________________________\n",
      "block1_conv1 (Conv2D)           (None, 256, 256, 64) 1792        input_1[0][0]                    \n",
      "__________________________________________________________________________________________________\n",
      "block1_conv2 (Conv2D)           (None, 256, 256, 64) 36928       block1_conv1[0][0]               \n",
      "__________________________________________________________________________________________________\n",
      "block1_pool (MaxPooling2D)      (None, 128, 128, 64) 0           block1_conv2[0][0]               \n",
      "__________________________________________________________________________________________________\n",
      "block2_conv1 (Conv2D)           (None, 128, 128, 128 73856       block1_pool[0][0]                \n",
      "__________________________________________________________________________________________________\n",
      "block2_conv2 (Conv2D)           (None, 128, 128, 128 147584      block2_conv1[0][0]               \n",
      "__________________________________________________________________________________________________\n",
      "block2_pool (MaxPooling2D)      (None, 64, 64, 128)  0           block2_conv2[0][0]               \n",
      "__________________________________________________________________________________________________\n",
      "block3_conv1 (Conv2D)           (None, 64, 64, 256)  295168      block2_pool[0][0]                \n",
      "__________________________________________________________________________________________________\n",
      "block3_conv2 (Conv2D)           (None, 64, 64, 256)  590080      block3_conv1[0][0]               \n",
      "__________________________________________________________________________________________________\n",
      "block3_conv3 (Conv2D)           (None, 64, 64, 256)  590080      block3_conv2[0][0]               \n",
      "__________________________________________________________________________________________________\n",
      "block3_conv4 (Conv2D)           (None, 64, 64, 256)  590080      block3_conv3[0][0]               \n",
      "__________________________________________________________________________________________________\n",
      "block3_pool (MaxPooling2D)      (None, 32, 32, 256)  0           block3_conv4[0][0]               \n",
      "__________________________________________________________________________________________________\n",
      "block4_conv1 (Conv2D)           (None, 32, 32, 512)  1180160     block3_pool[0][0]                \n",
      "__________________________________________________________________________________________________\n",
      "block4_conv2 (Conv2D)           (None, 32, 32, 512)  2359808     block4_conv1[0][0]               \n",
      "__________________________________________________________________________________________________\n",
      "block4_conv3 (Conv2D)           (None, 32, 32, 512)  2359808     block4_conv2[0][0]               \n",
      "__________________________________________________________________________________________________\n",
      "block4_conv4 (Conv2D)           (None, 32, 32, 512)  2359808     block4_conv3[0][0]               \n",
      "__________________________________________________________________________________________________\n",
      "block4_pool (MaxPooling2D)      (None, 16, 16, 512)  0           block4_conv4[0][0]               \n",
      "__________________________________________________________________________________________________\n",
      "block5_conv1 (Conv2D)           (None, 16, 16, 512)  2359808     block4_pool[0][0]                \n",
      "__________________________________________________________________________________________________\n",
      "block5_conv2 (Conv2D)           (None, 16, 16, 512)  2359808     block5_conv1[0][0]               \n",
      "__________________________________________________________________________________________________\n",
      "block5_conv3 (Conv2D)           (None, 16, 16, 512)  2359808     block5_conv2[0][0]               \n",
      "__________________________________________________________________________________________________\n",
      "block5_conv4 (Conv2D)           (None, 16, 16, 512)  2359808     block5_conv3[0][0]               \n",
      "__________________________________________________________________________________________________\n",
      "up_sampling2d (UpSampling2D)    (None, 256, 256, 64) 0           block1_conv2[0][0]               \n",
      "__________________________________________________________________________________________________\n",
      "up_sampling2d_1 (UpSampling2D)  (None, 256, 256, 128 0           block2_conv2[0][0]               \n",
      "__________________________________________________________________________________________________\n",
      "up_sampling2d_2 (UpSampling2D)  (None, 256, 256, 256 0           block3_conv4[0][0]               \n",
      "__________________________________________________________________________________________________\n",
      "up_sampling2d_3 (UpSampling2D)  (None, 256, 256, 512 0           block4_conv4[0][0]               \n",
      "__________________________________________________________________________________________________\n",
      "up_sampling2d_4 (UpSampling2D)  (None, 256, 256, 512 0           block5_conv4[0][0]               \n",
      "__________________________________________________________________________________________________\n",
      "up_sampling2d_5 (UpSampling2D)  (None, 256, 256, 3)  0           input_1[0][0]                    \n",
      "__________________________________________________________________________________________________\n",
      "tf.concat (TFOpLambda)          (None, 256, 256, 147 0           up_sampling2d[0][0]              \n",
      "                                                                 up_sampling2d_1[0][0]            \n",
      "                                                                 up_sampling2d_2[0][0]            \n",
      "                                                                 up_sampling2d_3[0][0]            \n",
      "                                                                 up_sampling2d_4[0][0]            \n",
      "                                                                 up_sampling2d_5[0][0]            \n",
      "__________________________________________________________________________________________________\n",
      "conv2d (Conv2D)                 (None, 256, 256, 512 755712      tf.concat[0][0]                  \n",
      "__________________________________________________________________________________________________\n",
      "leaky_re_lu (LeakyReLU)         (None, 256, 256, 512 0           conv2d[0][0]                     \n",
      "__________________________________________________________________________________________________\n",
      "batch_normalization (BatchNorma (None, 256, 256, 512 2048        leaky_re_lu[0][0]                \n",
      "__________________________________________________________________________________________________\n",
      "conv2d_1 (Conv2D)               (None, 256, 256, 256 131328      batch_normalization[0][0]        \n",
      "__________________________________________________________________________________________________\n",
      "conv2d_2 (Conv2D)               (None, 256, 256, 128 32896       conv2d_1[0][0]                   \n",
      "__________________________________________________________________________________________________\n",
      "leaky_re_lu_1 (LeakyReLU)       (None, 256, 256, 128 0           conv2d_2[0][0]                   \n",
      "__________________________________________________________________________________________________\n",
      "conv2d_3 (Conv2D)               (None, 256, 256, 64) 8256        leaky_re_lu_1[0][0]              \n",
      "__________________________________________________________________________________________________\n",
      "conv2d_4 (Conv2D)               (None, 256, 256, 2)  130         conv2d_3[0][0]                   \n",
      "==================================================================================================\n",
      "Total params: 20,954,754\n",
      "Trainable params: 929,346\n",
      "Non-trainable params: 20,025,408\n",
      "__________________________________________________________________________________________________\n"
     ]
    }
   ],
   "source": [
    "MODEL.compile(optimizer=tf.keras.optimizers.Adam(), loss=dist_loss, metrics=['mse', 'mae'])\n",
    "MODEL.summary()"
   ]
  },
  {
   "cell_type": "code",
   "execution_count": null,
   "metadata": {
    "id": "FtsIJyIwVW8y"
   },
   "outputs": [],
   "source": [
    "# Callback for saving the best model by monitoring loss at every epoch\n",
    "callback = tf.keras.callbacks.ModelCheckpoint('/content/drive/MyDrive/Colourise/Colourise_v0_models/', monitor='loss', verbose=0, save_best_only=False)"
   ]
  },
  {
   "cell_type": "code",
   "execution_count": null,
   "metadata": {
    "colab": {
     "base_uri": "https://localhost:8080/"
    },
    "id": "nyP-RHbMJjPZ",
    "outputId": "ae7d636b-3089-48bb-d121-daac00d76aaf",
    "scrolled": true
   },
   "outputs": [
    {
     "name": "stdout",
     "output_type": "stream",
     "text": [
      "Epoch 1/3\n",
      "4026/4026 [==============================] - 5310s 1s/step - loss: 0.0180 - mse: 0.0180 - mae: 0.0855\n",
      "INFO:tensorflow:Assets written to: /content/drive/MyDrive/Colourise/Colourise_v2_models/assets\n",
      "Epoch 2/3\n",
      "4026/4026 [==============================] - 5240s 1s/step - loss: 0.0129 - mse: 0.0129 - mae: 0.0741\n",
      "INFO:tensorflow:Assets written to: /content/drive/MyDrive/Colourise/Colourise_v2_models/assets\n",
      "Epoch 3/3\n",
      "4026/4026 [==============================] - 5225s 1s/step - loss: 0.0128 - mse: 0.0128 - mae: 0.0738\n",
      "INFO:tensorflow:Assets written to: /content/drive/MyDrive/Colourise/Colourise_v2_models/assets\n"
     ]
    },
    {
     "data": {
      "text/plain": [
       "<tensorflow.python.keras.callbacks.History at 0x7f700a5219b0>"
      ]
     },
     "execution_count": 13,
     "metadata": {
      "tags": []
     },
     "output_type": "execute_result"
    }
   ],
   "source": [
    "MODEL.fit(processed_ds, epochs=3, callbacks=[callback])"
   ]
  },
  {
   "cell_type": "code",
   "execution_count": null,
   "metadata": {
    "id": "NBPnpfh3Vyx-"
   },
   "outputs": [],
   "source": [
    "Model.save('/content/drive/MyDrive/Colourise/Colourise_v0_models/FinalModel') #Saving the entire model"
   ]
  },
  {
   "cell_type": "code",
   "execution_count": null,
   "metadata": {},
   "outputs": [],
   "source": []
  }
 ],
 "metadata": {
  "accelerator": "GPU",
  "colab": {
   "collapsed_sections": [],
   "name": "colourise_v1b.ipynb",
   "provenance": []
  },
  "kernelspec": {
   "display_name": "Python 3",
   "language": "python",
   "name": "python3"
  },
  "language_info": {
   "codemirror_mode": {
    "name": "ipython",
    "version": 3
   },
   "file_extension": ".py",
   "mimetype": "text/x-python",
   "name": "python",
   "nbconvert_exporter": "python",
   "pygments_lexer": "ipython3",
   "version": "3.8.6"
  }
 },
 "nbformat": 4,
 "nbformat_minor": 1
}
