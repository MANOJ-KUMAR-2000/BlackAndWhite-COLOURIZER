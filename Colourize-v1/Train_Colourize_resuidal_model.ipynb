{
  "nbformat": 4,
  "nbformat_minor": 0,
  "metadata": {
    "accelerator": "GPU",
    "colab": {
      "name": "Colourize_v2b.ipynb",
      "provenance": [],
      "collapsed_sections": []
    },
    "kernelspec": {
      "display_name": "Python 3",
      "name": "python3"
    }
  },
  "cells": [
    {
      "cell_type": "code",
      "metadata": {
        "id": "B3UdoWKUjXcz"
      },
      "source": [
        "from tensorflow.keras.layers import Conv2D, BatchNormalization, UpSampling2D, Add, LeakyReLU\r\n",
        "import numpy as np\r\n",
        "import tensorflow as tf\r\n",
        "from tensorflow.keras.applications import vgg19\r\n",
        "from google.colab.patches import cv2_imshow\r\n",
        "import matplotlib.pyplot as plt\r\n",
        "import zipfile\r\n",
        "from  rgb_lab_formulation import *"
      ],
      "execution_count": null,
      "outputs": []
    },
    {
      "cell_type": "code",
      "metadata": {
        "colab": {
          "base_uri": "https://localhost:8080/"
        },
        "id": "Awh1k56HHjSN",
        "outputId": "41d28099-c77d-443d-9708-ce939eae616a"
      },
      "source": [
        "with zipfile.ZipFile(\"/content/drive/MyDrive/Colourize/wider Face Datset/WIDER_train.zip\") as zfile:\r\n",
        "    zfile.extractall()\r\n",
        "\r\n",
        "datasets1 = tf.keras.preprocessing.image_dataset_from_directory(\"/content/WIDER_train/\", batch_size=8, image_size=(256,256))"
      ],
      "execution_count": null,
      "outputs": [
        {
          "output_type": "stream",
          "text": [
            "Found 12880 files belonging to 1 classes.\n"
          ],
          "name": "stdout"
        }
      ]
    },
    {
      "cell_type": "code",
      "metadata": {
        "colab": {
          "base_uri": "https://localhost:8080/"
        },
        "id": "E1HngcN2Hll0",
        "outputId": "f023c8c1-fcd7-4c10-ff54-efec2947a21f"
      },
      "source": [
        "with zipfile.ZipFile(\"/content/drive/MyDrive/Colourize/wider Face Datset/WIDER_test.zip\") as zfile:\r\n",
        "    zfile.extractall()\r\n",
        "\r\n",
        "datasets2 = tf.keras.preprocessing.image_dataset_from_directory(\"/content/WIDER_test/\", batch_size=8, image_size=(256,256))"
      ],
      "execution_count": null,
      "outputs": [
        {
          "output_type": "stream",
          "text": [
            "Found 16097 files belonging to 1 classes.\n"
          ],
          "name": "stdout"
        }
      ]
    },
    {
      "cell_type": "code",
      "metadata": {
        "colab": {
          "base_uri": "https://localhost:8080/"
        },
        "id": "o8n4CZx8HQyp",
        "outputId": "9914c42f-e03e-47ae-a5c4-66107bf1c364"
      },
      "source": [
        "with zipfile.ZipFile(\"/content/drive/MyDrive/Colourize/wider Face Datset/WIDER_val.zip\") as zfile:\r\n",
        "    zfile.extractall()\r\n",
        "    \r\n",
        "datasets3 = tf.keras.preprocessing.image_dataset_from_directory(\"/content/WIDER_val/\", batch_size=8, image_size=(256,256))"
      ],
      "execution_count": null,
      "outputs": [
        {
          "output_type": "stream",
          "text": [
            "Found 3226 files belonging to 1 classes.\n"
          ],
          "name": "stdout"
        }
      ]
    },
    {
      "cell_type": "code",
      "metadata": {
        "id": "BUDV63mBH0cW"
      },
      "source": [
        "ds = datasets1.concatenate(datasets2)\r\n",
        "ds = ds.concatenate(datasets3).unbatch()\r\n",
        "norm_ds = ds.map(lambda x,y : x/255)"
      ],
      "execution_count": null,
      "outputs": []
    },
    {
      "cell_type": "code",
      "metadata": {
        "id": "VmJSrr66H5AO"
      },
      "source": [
        "processed_ds = norm_ds.map(lambda x : (tf.concat((rgb_to_lab(x)[:,:,:1]/100, rgb_to_lab(x)[:,:,:1]/100,rgb_to_lab(x)[:,:,:1]/100), axis=-1), \r\n",
        "                             rgb_to_lab(x)[:,:,1:]/128))\r\n",
        "processed_ds = processed_ds.shuffle(1000)"
      ],
      "execution_count": null,
      "outputs": []
    },
    {
      "cell_type": "code",
      "metadata": {
        "id": "NgnT84f4PC6o"
      },
      "source": [
        "train_ds = processed_ds.skip(500).batch(8)\r\n",
        "test_ds = processed_ds.take(500).batch(8)"
      ],
      "execution_count": null,
      "outputs": []
    },
    {
      "cell_type": "code",
      "metadata": {
        "id": "fapcziEgllGF"
      },
      "source": [
        "def resuidal_block(vgg_layer_out, prev_layer, upscale_size=2):\r\n",
        "    up_scaled = UpSampling2D(size=upscale_size)(prev_layer)\r\n",
        "    vgg_layer_out = BatchNormalization(axis=-1)(vgg_layer_out)\r\n",
        "    resuidal_add = Add()([up_scaled, vgg_layer_out])\r\n",
        "    return resuidal_add\r\n",
        "\r\n",
        "def ColouriseModel(input_shape=[256,256,3]):\r\n",
        "    vgg = vgg19.VGG19(include_top=False, input_shape=input_shape)\r\n",
        "    vgg.trainable = False\r\n",
        "\r\n",
        "    outputs = {}\r\n",
        "    outputs['0_inputs'] = vgg.layers[0].output\r\n",
        "    concat_layers_name = ['block1_conv2', 'block2_conv2', 'block3_conv4', 'block4_conv4', 'block5_conv4']\r\n",
        "    for name in concat_layers_name:\r\n",
        "        outputs[name] = vgg.get_layer(name).output\r\n",
        "\r\n",
        "\r\n",
        "    vgg_last_out_norm = BatchNormalization(axis=-1)(outputs['block5_conv4'])\r\n",
        "    conv = Conv2D(512, (1,1), padding='SAME')(vgg_last_out_norm)\r\n",
        "\r\n",
        "    resuidal_add_out = resuidal_block(outputs['block4_conv4'], conv)\r\n",
        "    resuidal_out = Conv2D(256, (1,1), padding='SAME')(resuidal_add_out)\r\n",
        "    activation_lrelu = LeakyReLU()(resuidal_out)\r\n",
        "\r\n",
        "    resuidal_add_out = resuidal_block(outputs['block3_conv4'], activation_lrelu)\r\n",
        "    resuidal_out = Conv2D(128, (1,1), padding='SAME')(resuidal_add_out)\r\n",
        "    activation_lrelu = LeakyReLU()(resuidal_out)\r\n",
        "\r\n",
        "    resuidal_add_out = resuidal_block(outputs['block2_conv2'], activation_lrelu)\r\n",
        "    resuidal_out = Conv2D(64, (1,1), padding='SAME')(resuidal_add_out)\r\n",
        "    activation_lrelu = LeakyReLU()(resuidal_out)\r\n",
        "\r\n",
        "    resuidal_add_out = resuidal_block(outputs['block1_conv2'], activation_lrelu)\r\n",
        "    resuidal_out = Conv2D(3, (1,1), padding='SAME')(resuidal_add_out)\r\n",
        "    activation_lrelu = LeakyReLU()(resuidal_out)\r\n",
        "\r\n",
        "    resuidal_add_out = resuidal_block(outputs['0_inputs'], activation_lrelu, upscale_size=1)\r\n",
        "    resuidal_out = Conv2D(3, (1,1), padding='SAME')(resuidal_add_out)\r\n",
        "    activation_lrelu = LeakyReLU()(resuidal_out)\r\n",
        "\r\n",
        "    model_out = Conv2D(2, (1,1), activation='tanh', padding='SAME')(activation_lrelu)\r\n",
        "\r\n",
        "\r\n",
        "    return tf.keras.Model([vgg.input], model_out)"
      ],
      "execution_count": null,
      "outputs": []
    },
    {
      "cell_type": "code",
      "metadata": {
        "colab": {
          "base_uri": "https://localhost:8080/"
        },
        "id": "OHcPfaR-m2P2",
        "outputId": "204f4522-7f61-44d7-fae6-715c9d09d075"
      },
      "source": [
        "model = ColouriseModel()"
      ],
      "execution_count": null,
      "outputs": [
        {
          "output_type": "stream",
          "text": [
            "Downloading data from https://storage.googleapis.com/tensorflow/keras-applications/vgg19/vgg19_weights_tf_dim_ordering_tf_kernels_notop.h5\n",
            "80142336/80134624 [==============================] - 1s 0us/step\n"
          ],
          "name": "stdout"
        }
      ]
    },
    {
      "cell_type": "code",
      "metadata": {
        "colab": {
          "base_uri": "https://localhost:8080/"
        },
        "id": "dW2jwl2E4SdG",
        "outputId": "542c1e71-748b-40e9-dcc1-0fd0568dfdc1"
      },
      "source": [
        "model.compile(optimizer=tf.keras.optimizers.Adam(), loss='mse', metrics=['mae', \"mse\"])\r\n",
        "model.summary()"
      ],
      "execution_count": null,
      "outputs": [
        {
          "output_type": "stream",
          "text": [
            "Model: \"model\"\n",
            "__________________________________________________________________________________________________\n",
            "Layer (type)                    Output Shape         Param #     Connected to                     \n",
            "==================================================================================================\n",
            "input_1 (InputLayer)            [(None, 256, 256, 3) 0                                            \n",
            "__________________________________________________________________________________________________\n",
            "block1_conv1 (Conv2D)           (None, 256, 256, 64) 1792        input_1[0][0]                    \n",
            "__________________________________________________________________________________________________\n",
            "block1_conv2 (Conv2D)           (None, 256, 256, 64) 36928       block1_conv1[0][0]               \n",
            "__________________________________________________________________________________________________\n",
            "block1_pool (MaxPooling2D)      (None, 128, 128, 64) 0           block1_conv2[0][0]               \n",
            "__________________________________________________________________________________________________\n",
            "block2_conv1 (Conv2D)           (None, 128, 128, 128 73856       block1_pool[0][0]                \n",
            "__________________________________________________________________________________________________\n",
            "block2_conv2 (Conv2D)           (None, 128, 128, 128 147584      block2_conv1[0][0]               \n",
            "__________________________________________________________________________________________________\n",
            "block2_pool (MaxPooling2D)      (None, 64, 64, 128)  0           block2_conv2[0][0]               \n",
            "__________________________________________________________________________________________________\n",
            "block3_conv1 (Conv2D)           (None, 64, 64, 256)  295168      block2_pool[0][0]                \n",
            "__________________________________________________________________________________________________\n",
            "block3_conv2 (Conv2D)           (None, 64, 64, 256)  590080      block3_conv1[0][0]               \n",
            "__________________________________________________________________________________________________\n",
            "block3_conv3 (Conv2D)           (None, 64, 64, 256)  590080      block3_conv2[0][0]               \n",
            "__________________________________________________________________________________________________\n",
            "block3_conv4 (Conv2D)           (None, 64, 64, 256)  590080      block3_conv3[0][0]               \n",
            "__________________________________________________________________________________________________\n",
            "block3_pool (MaxPooling2D)      (None, 32, 32, 256)  0           block3_conv4[0][0]               \n",
            "__________________________________________________________________________________________________\n",
            "block4_conv1 (Conv2D)           (None, 32, 32, 512)  1180160     block3_pool[0][0]                \n",
            "__________________________________________________________________________________________________\n",
            "block4_conv2 (Conv2D)           (None, 32, 32, 512)  2359808     block4_conv1[0][0]               \n",
            "__________________________________________________________________________________________________\n",
            "block4_conv3 (Conv2D)           (None, 32, 32, 512)  2359808     block4_conv2[0][0]               \n",
            "__________________________________________________________________________________________________\n",
            "block4_conv4 (Conv2D)           (None, 32, 32, 512)  2359808     block4_conv3[0][0]               \n",
            "__________________________________________________________________________________________________\n",
            "block4_pool (MaxPooling2D)      (None, 16, 16, 512)  0           block4_conv4[0][0]               \n",
            "__________________________________________________________________________________________________\n",
            "block5_conv1 (Conv2D)           (None, 16, 16, 512)  2359808     block4_pool[0][0]                \n",
            "__________________________________________________________________________________________________\n",
            "block5_conv2 (Conv2D)           (None, 16, 16, 512)  2359808     block5_conv1[0][0]               \n",
            "__________________________________________________________________________________________________\n",
            "block5_conv3 (Conv2D)           (None, 16, 16, 512)  2359808     block5_conv2[0][0]               \n",
            "__________________________________________________________________________________________________\n",
            "block5_conv4 (Conv2D)           (None, 16, 16, 512)  2359808     block5_conv3[0][0]               \n",
            "__________________________________________________________________________________________________\n",
            "batch_normalization (BatchNorma (None, 16, 16, 512)  2048        block5_conv4[0][0]               \n",
            "__________________________________________________________________________________________________\n",
            "conv2d (Conv2D)                 (None, 16, 16, 512)  262656      batch_normalization[0][0]        \n",
            "__________________________________________________________________________________________________\n",
            "up_sampling2d (UpSampling2D)    (None, 32, 32, 512)  0           conv2d[0][0]                     \n",
            "__________________________________________________________________________________________________\n",
            "batch_normalization_1 (BatchNor (None, 32, 32, 512)  2048        block4_conv4[0][0]               \n",
            "__________________________________________________________________________________________________\n",
            "add (Add)                       (None, 32, 32, 512)  0           up_sampling2d[0][0]              \n",
            "                                                                 batch_normalization_1[0][0]      \n",
            "__________________________________________________________________________________________________\n",
            "conv2d_1 (Conv2D)               (None, 32, 32, 256)  131328      add[0][0]                        \n",
            "__________________________________________________________________________________________________\n",
            "leaky_re_lu (LeakyReLU)         (None, 32, 32, 256)  0           conv2d_1[0][0]                   \n",
            "__________________________________________________________________________________________________\n",
            "up_sampling2d_1 (UpSampling2D)  (None, 64, 64, 256)  0           leaky_re_lu[0][0]                \n",
            "__________________________________________________________________________________________________\n",
            "batch_normalization_2 (BatchNor (None, 64, 64, 256)  1024        block3_conv4[0][0]               \n",
            "__________________________________________________________________________________________________\n",
            "add_1 (Add)                     (None, 64, 64, 256)  0           up_sampling2d_1[0][0]            \n",
            "                                                                 batch_normalization_2[0][0]      \n",
            "__________________________________________________________________________________________________\n",
            "conv2d_2 (Conv2D)               (None, 64, 64, 128)  32896       add_1[0][0]                      \n",
            "__________________________________________________________________________________________________\n",
            "leaky_re_lu_1 (LeakyReLU)       (None, 64, 64, 128)  0           conv2d_2[0][0]                   \n",
            "__________________________________________________________________________________________________\n",
            "up_sampling2d_2 (UpSampling2D)  (None, 128, 128, 128 0           leaky_re_lu_1[0][0]              \n",
            "__________________________________________________________________________________________________\n",
            "batch_normalization_3 (BatchNor (None, 128, 128, 128 512         block2_conv2[0][0]               \n",
            "__________________________________________________________________________________________________\n",
            "add_2 (Add)                     (None, 128, 128, 128 0           up_sampling2d_2[0][0]            \n",
            "                                                                 batch_normalization_3[0][0]      \n",
            "__________________________________________________________________________________________________\n",
            "conv2d_3 (Conv2D)               (None, 128, 128, 64) 8256        add_2[0][0]                      \n",
            "__________________________________________________________________________________________________\n",
            "leaky_re_lu_2 (LeakyReLU)       (None, 128, 128, 64) 0           conv2d_3[0][0]                   \n",
            "__________________________________________________________________________________________________\n",
            "up_sampling2d_3 (UpSampling2D)  (None, 256, 256, 64) 0           leaky_re_lu_2[0][0]              \n",
            "__________________________________________________________________________________________________\n",
            "batch_normalization_4 (BatchNor (None, 256, 256, 64) 256         block1_conv2[0][0]               \n",
            "__________________________________________________________________________________________________\n",
            "add_3 (Add)                     (None, 256, 256, 64) 0           up_sampling2d_3[0][0]            \n",
            "                                                                 batch_normalization_4[0][0]      \n",
            "__________________________________________________________________________________________________\n",
            "conv2d_4 (Conv2D)               (None, 256, 256, 3)  195         add_3[0][0]                      \n",
            "__________________________________________________________________________________________________\n",
            "leaky_re_lu_3 (LeakyReLU)       (None, 256, 256, 3)  0           conv2d_4[0][0]                   \n",
            "__________________________________________________________________________________________________\n",
            "up_sampling2d_4 (UpSampling2D)  (None, 256, 256, 3)  0           leaky_re_lu_3[0][0]              \n",
            "__________________________________________________________________________________________________\n",
            "batch_normalization_5 (BatchNor (None, 256, 256, 3)  12          input_1[0][0]                    \n",
            "__________________________________________________________________________________________________\n",
            "add_4 (Add)                     (None, 256, 256, 3)  0           up_sampling2d_4[0][0]            \n",
            "                                                                 batch_normalization_5[0][0]      \n",
            "__________________________________________________________________________________________________\n",
            "conv2d_5 (Conv2D)               (None, 256, 256, 3)  12          add_4[0][0]                      \n",
            "__________________________________________________________________________________________________\n",
            "leaky_re_lu_4 (LeakyReLU)       (None, 256, 256, 3)  0           conv2d_5[0][0]                   \n",
            "__________________________________________________________________________________________________\n",
            "conv2d_6 (Conv2D)               (None, 256, 256, 2)  8           leaky_re_lu_4[0][0]              \n",
            "==================================================================================================\n",
            "Total params: 20,465,635\n",
            "Trainable params: 438,301\n",
            "Non-trainable params: 20,027,334\n",
            "__________________________________________________________________________________________________\n"
          ],
          "name": "stdout"
        }
      ]
    },
    {
      "cell_type": "code",
      "metadata": {
        "id": "Gwphk4OT8Bwf",
        "colab": {
          "base_uri": "https://localhost:8080/"
        },
        "outputId": "af1d38d3-619f-44ca-c6fa-bf7b6b2baa38"
      },
      "source": [
        "model.fit(train_ds, epochs=3, validation_data=test_ds)"
      ],
      "execution_count": null,
      "outputs": [
        {
          "output_type": "stream",
          "text": [
            "Epoch 1/3\n",
            "3963/3963 [==============================] - 1643s 398ms/step - loss: 0.0218 - mae: 0.0946 - mse: 0.0218 - val_loss: 0.0134 - val_mae: 0.0763 - val_mse: 0.0134\n",
            "Epoch 2/3\n",
            "3963/3963 [==============================] - 1563s 382ms/step - loss: 0.0130 - mae: 0.0751 - mse: 0.0130 - val_loss: 0.0120 - val_mae: 0.0722 - val_mse: 0.0120\n",
            "Epoch 3/3\n",
            "3963/3963 [==============================] - 1568s 383ms/step - loss: 0.0129 - mae: 0.0745 - mse: 0.0129 - val_loss: 0.0127 - val_mae: 0.0761 - val_mse: 0.0127\n"
          ],
          "name": "stdout"
        },
        {
          "output_type": "execute_result",
          "data": {
            "text/plain": [
              "<tensorflow.python.keras.callbacks.History at 0x7fc5dd3832e8>"
            ]
          },
          "metadata": {
            "tags": []
          },
          "execution_count": 16
        }
      ]
    },
    {
      "cell_type": "code",
      "metadata": {
        "id": "34A5JE-_wT1p",
        "colab": {
          "base_uri": "https://localhost:8080/"
        },
        "outputId": "ae964bf5-6487-48c1-9b35-d1072db86e7c"
      },
      "source": [
        "model.save(\"/content/drive/MyDrive/Colourize/v2model\")"
      ],
      "execution_count": null,
      "outputs": [
        {
          "output_type": "stream",
          "text": [
            "INFO:tensorflow:Assets written to: /content/drive/MyDrive/Colourize/v2model/assets\n"
          ],
          "name": "stdout"
        }
      ]
    },
    {
      "cell_type": "code",
      "metadata": {
        "id": "FgdiM7uph76J"
      },
      "source": [
        ""
      ],
      "execution_count": null,
      "outputs": []
    }
  ]
}